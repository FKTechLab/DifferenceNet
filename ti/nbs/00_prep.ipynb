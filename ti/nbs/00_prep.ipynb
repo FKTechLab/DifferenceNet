{
 "cells": [
  {
   "cell_type": "code",
   "execution_count": 1,
   "metadata": {
    "tags": []
   },
   "outputs": [],
   "source": [
    "# default_exp prep"
   ]
  },
  {
   "cell_type": "markdown",
   "metadata": {},
   "source": [
    "# Prep\n",
    "\n",
    "> Data Preprocessing module"
   ]
  },
  {
   "cell_type": "code",
   "execution_count": 3,
   "metadata": {},
   "outputs": [],
   "source": [
    "#hide\n",
    "%reload_ext autoreload\n",
    "%autoreload 2\n",
    "from nbdev.showdoc import *\n",
    "import warnings\n",
    "warnings.filterwarnings(\"ignore\")"
   ]
  },
  {
   "cell_type": "code",
   "execution_count": 4,
   "metadata": {},
   "outputs": [],
   "source": [
    "# export\n",
    "import pandas as pd"
   ]
  },
  {
   "cell_type": "code",
   "execution_count": 5,
   "metadata": {},
   "outputs": [],
   "source": [
    "# export\n",
    "class Transformer:\n",
    "    '''Transform raw data to get derived features'''\n",
    "    def __init__(self):\n",
    "        self.features_traj = [\n",
    "            'lat', 'lng', 'sine_time', 'cose_time'\n",
    "        ]\n",
    "        self.features_org = [\n",
    "            'org_lat', 'org_lng', 'org_sine_time', 'org_cose_time'\n",
    "        ]\n",
    "        \n",
    "    def transform(self, X):\n",
    "        '''Break down X into x1 and x2'''\n",
    "        x1 = X[self.features_traj].values\n",
    "        x1[:, 0] = x1[:, 0]/90.0\n",
    "        x1[:, 1] = x1[:, 1]/180.0\n",
    "        x1 = x1.tolist()\n",
    "\n",
    "        x2_org = X[self.features_org].values\n",
    "        x2_org[:, 0] = x2_org[:, 0]/90.0\n",
    "        x2_org[:, 1] = x2_org[:, 1]/180.0\n",
    "        x2_org = x2_org.tolist()\n",
    "        return x1, x2_org"
   ]
  },
  {
   "cell_type": "code",
   "execution_count": 6,
   "metadata": {},
   "outputs": [
    {
     "data": {
      "text/markdown": [
       "<h2 id=\"Transformer\" class=\"doc_header\"><code>class</code> <code>Transformer</code><a href=\"\" class=\"source_link\" style=\"float:right\">[source]</a></h2>\n",
       "\n",
       "> <code>Transformer</code>()\n",
       "\n",
       "Transform raw data to get derived features"
      ],
      "text/plain": [
       "<IPython.core.display.Markdown object>"
      ]
     },
     "metadata": {},
     "output_type": "display_data"
    }
   ],
   "source": [
    "show_doc(Transformer)"
   ]
  },
  {
   "cell_type": "code",
   "execution_count": 7,
   "metadata": {},
   "outputs": [
    {
     "name": "stdout",
     "output_type": "stream",
     "text": [
      "9 9\n",
      "4 4\n",
      "[[0.1111111111111111, 0.06111111111111111, 0.1, 0.2], [0.15555555555555556, 0.06111111111111111, 0.2, 0.5], [0.16666666666666666, 0.05555555555555555, 0.6, 0.1], [0.1111111111111111, 0.06111111111111111, 0.1, 0.2], [0.15555555555555556, 0.06111111111111111, 0.2, 0.5], [0.16666666666666666, 0.05555555555555555, 0.6, 0.1], [0.1111111111111111, 0.06111111111111111, 0.1, 0.2], [0.15555555555555556, 0.06111111111111111, 0.2, 0.5], [0.16666666666666666, 0.05555555555555555, 0.6, 0.1]]\n",
      "[[0.15555555555555556, 0.08333333333333333, 0.2, 0.3], [0.15555555555555556, 0.08333333333333333, 0.2, 0.3], [0.15555555555555556, 0.08333333333333333, 0.2, 0.3], [0.15555555555555556, 0.08333333333333333, 0.2, 0.3], [0.15555555555555556, 0.08333333333333333, 0.2, 0.3], [0.15555555555555556, 0.08333333333333333, 0.2, 0.3], [0.15555555555555556, 0.08333333333333333, 0.2, 0.3], [0.15555555555555556, 0.08333333333333333, 0.2, 0.3], [0.15555555555555556, 0.08333333333333333, 0.2, 0.3]]\n"
     ]
    }
   ],
   "source": [
    "# slow\n",
    "# usage: Transformer\n",
    "X = pd.read_csv('../data/sim/0.csv')\n",
    "transformer = Transformer()\n",
    "x1, x2 = transformer.transform(X)\n",
    "print(len(x1), len(x2))\n",
    "print(len(x1[0]), len(x2[0]))\n",
    "print(x1)\n",
    "print(x2)"
   ]
  },
  {
   "cell_type": "markdown",
   "metadata": {},
   "source": [
    "# Export -"
   ]
  },
  {
   "cell_type": "code",
   "execution_count": 8,
   "metadata": {},
   "outputs": [
    {
     "name": "stdout",
     "output_type": "stream",
     "text": [
      "Converted 00_prep.ipynb.\n",
      "Converted 01_dataloader.ipynb.\n",
      "Converted 02_model.ipynb.\n",
      "Converted 03_train.ipynb.\n",
      "Converted 04_eval.ipynb.\n",
      "Converted index.ipynb.\n"
     ]
    }
   ],
   "source": [
    "#hide\n",
    "from nbdev.export import notebook2script\n",
    "notebook2script()"
   ]
  },
  {
   "cell_type": "code",
   "execution_count": null,
   "metadata": {},
   "outputs": [],
   "source": []
  }
 ],
 "metadata": {
  "kernelspec": {
   "display_name": "Python 3",
   "language": "python",
   "name": "python3"
  },
  "language_info": {
   "codemirror_mode": {
    "name": "ipython",
    "version": 3
   },
   "file_extension": ".py",
   "mimetype": "text/x-python",
   "name": "python",
   "nbconvert_exporter": "python",
   "pygments_lexer": "ipython3",
   "version": "3.7.9"
  }
 },
 "nbformat": 4,
 "nbformat_minor": 4
}
