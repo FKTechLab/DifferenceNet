{
 "cells": [
  {
   "cell_type": "markdown",
   "metadata": {},
   "source": [
    "# Trajectory Identification (TI)\n",
    "\n",
    "> DifferenceNet as ann alternative to Siamese Net for TI"
   ]
  },
  {
   "cell_type": "markdown",
   "metadata": {},
   "source": [
    "<p align=\"middle\">\n",
    "  <img src=\"https://github.com/FKTechLab/DifferenceNet/blob/main/ti/images/traj_half.png\" width=\"50%\" />\n",
    "  <img src=\"https://github.com/FKTechLab/DifferenceNet/blob/main/ti/images/traj_full.png\" width=\"50%\" />\n",
    "</p>"
   ]
  },
  {
   "cell_type": "code",
   "execution_count": 15,
   "metadata": {},
   "outputs": [],
   "source": [
    "#hide\n",
    "%reload_ext autoreload\n",
    "%autoreload 2\n",
    "from nbdev.showdoc import *\n",
    "import warnings\n",
    "warnings.filterwarnings(\"ignore\")"
   ]
  },
  {
   "cell_type": "markdown",
   "metadata": {},
   "source": [
    "## How to use\n",
    "`python -m ti.train -m DN -e 10 -p 1`"
   ]
  },
  {
   "cell_type": "markdown",
   "metadata": {},
   "source": [
    "usage: train.py [-h] [-m {SN,DN}] [-e EPOCH] [-p PRINT]\n",
    "\n",
    "optional arguments:\n",
    "\n",
    "    -h, --help            show this help message and exit\n",
    "\n",
    "    -m {SN,DN}, --model {SN,DN}\n",
    "    Choose model, SN : Siamese Net, DN : Difference Net\n",
    "\n",
    "    -e EPOCH, --epoch EPOCH\n",
    "    Number of Epochs\n",
    "\n",
    "    -p PRINT, --print PRINT\n",
    "    Print at every p step, p must not be greater than e"
   ]
  },
  {
   "cell_type": "markdown",
   "metadata": {},
   "source": [
    "### Transformer"
   ]
  },
  {
   "cell_type": "code",
   "execution_count": 11,
   "metadata": {},
   "outputs": [
    {
     "name": "stdout",
     "output_type": "stream",
     "text": [
      "9 9\n",
      "4 4\n"
     ]
    }
   ],
   "source": [
    "import pandas as pd\n",
    "from ti.prep import Transformer\n",
    "\n",
    "X = pd.read_csv('../data/sim/0.csv')\n",
    "transformer = Transformer()\n",
    "x1, x2 = transformer.transform(X)\n",
    "print(len(x1), len(x2))\n",
    "print(len(x1[0]), len(x2[0]))"
   ]
  },
  {
   "cell_type": "markdown",
   "metadata": {},
   "source": [
    "### Model"
   ]
  },
  {
   "cell_type": "markdown",
   "metadata": {},
   "source": [
    "#### Difference Net\n",
    "This module helps create the difference features using (simple sub, abs diff or squared diff) for:\n",
    "- (pos, anchor) or\n",
    "- (neg, anchor)"
   ]
  },
  {
   "cell_type": "code",
   "execution_count": 12,
   "metadata": {},
   "outputs": [
    {
     "name": "stdout",
     "output_type": "stream",
     "text": [
      "torch.Size([3, 5, 4])\n",
      "simple\n",
      "tensor([[ 0.0000,  0.0000,  0.0000,  0.0000],\n",
      "        [ 0.0000,  0.0000,  0.0000,  0.0000],\n",
      "        [ 0.0000,  0.0000,  0.0000,  0.0000],\n",
      "        [-0.0444, -0.0222, -0.1000, -0.1000],\n",
      "        [ 0.0000, -0.0222,  0.0000,  0.2000]])\n",
      "abs\n",
      "tensor([[0.0000, 0.0000, 0.0000, 0.0000],\n",
      "        [0.0000, 0.0000, 0.0000, 0.0000],\n",
      "        [0.0000, 0.0000, 0.0000, 0.0000],\n",
      "        [0.0444, 0.0222, 0.1000, 0.1000],\n",
      "        [0.0000, 0.0222, 0.0000, 0.2000]])\n",
      "square\n",
      "tensor([[0.0000, 0.0000, 0.0000, 0.0000],\n",
      "        [0.0000, 0.0000, 0.0000, 0.0000],\n",
      "        [0.0000, 0.0000, 0.0000, 0.0000],\n",
      "        [0.0020, 0.0005, 0.0100, 0.0100],\n",
      "        [0.0000, 0.0005, 0.0000, 0.0400]])\n",
      "torch.Size([1, 3, 4])\n",
      "simple\n",
      "tensor([[ 0.0222, -0.0056,  0.0000,  0.0000],\n",
      "        [ 0.0111, -0.0111,  0.5000,  0.0000],\n",
      "        [ 0.0444, -0.0056,  0.4000,  0.5000]])\n",
      "abs\n",
      "tensor([[0.0222, 0.0056, 0.0000, 0.0000],\n",
      "        [0.0111, 0.0111, 0.5000, 0.0000],\n",
      "        [0.0444, 0.0056, 0.4000, 0.5000]])\n",
      "square\n",
      "tensor([[4.9383e-04, 3.0864e-05, 0.0000e+00, 0.0000e+00],\n",
      "        [1.2346e-04, 1.2346e-04, 2.5000e-01, 0.0000e+00],\n",
      "        [1.9753e-03, 3.0864e-05, 1.6000e-01, 2.5000e-01]])\n"
     ]
    }
   ],
   "source": [
    "from torch.utils.data import DataLoader\n",
    "\n",
    "from ti.dataloader import DatasetTraj, zero_padding\n",
    "from ti.prep import Transformer\n",
    "from ti.model import Difference\n",
    "\n",
    "# Data generator\n",
    "params = {\n",
    "    'batch_size': 3,\n",
    "    'shuffle': True,\n",
    "    'collate_fn': zero_padding\n",
    "}\n",
    "train_g = DataLoader(DatasetTraj(range(0,4), [[0,1], [2,3], [1,3], [0, 1], [2,4], [6,0], [5,1], [9,3], [11,7], [8, 1], [10,4], [4,10]]), **params)\n",
    "diff_s = Difference(mode='simple')\n",
    "diff_a = Difference(mode='abs')\n",
    "diff_sq = Difference(mode='square')\n",
    "for x1, x2, y, x_seq_lens, max_seq_len in train_g:\n",
    "    print(x1.shape)\n",
    "    print('simple')\n",
    "    print(diff_s(x1, x2[0])[0])\n",
    "    print('abs')\n",
    "    print(diff_a(x1, x2[0])[0])\n",
    "    print('square')\n",
    "    print(diff_sq(x1, x2[0])[0])"
   ]
  },
  {
   "cell_type": "markdown",
   "metadata": {},
   "source": [
    "#### Trajectory Identtification: Difference Net"
   ]
  },
  {
   "cell_type": "markdown",
   "metadata": {},
   "source": [
    "![alt text](https://github.com/FKTechLab/DifferenceNet/blob/main/ti/images/TrajectoryDN.jpeg)"
   ]
  },
  {
   "cell_type": "code",
   "execution_count": 13,
   "metadata": {},
   "outputs": [
    {
     "name": "stdout",
     "output_type": "stream",
     "text": [
      "Batch\n",
      "torch.Size([3, 5, 4])\n",
      "torch.Size([3, 5, 4]) torch.Size([3, 5, 4])\n",
      "tensor([0., 1., 1.])\n",
      "tensor([5., 5., 4.])\n",
      "5\n",
      "tensor([[0.4676],\n",
      "        [0.4676],\n",
      "        [0.4675]], grad_fn=<SigmoidBackward>)\n"
     ]
    }
   ],
   "source": [
    "from ti.model import TrajectoryDN\n",
    "import torch \n",
    "device = torch.device('cuda' if torch.cuda.is_available() else 'cpu')\n",
    "diff_net = Difference(mode='simple')\n",
    "net = TrajectoryDN(diff_net, n_features=len(transformer.features_traj)*2) # 2x for org and dest \n",
    "# Forward Pass\n",
    "count = 0\n",
    "for x1, x2, y, x_seq_lens, max_seq_len in train_g:\n",
    "    x1, y, x_seq_lens = torch.Tensor(x1).to(device), torch.Tensor(y).to(device), torch.Tensor(x_seq_lens).to(device)\n",
    "    org = x2[0]\n",
    "    dst = x2[1]\n",
    "    org = torch.Tensor(org).to(device)\n",
    "    dst = torch.Tensor(dst).to(device)\n",
    "    x2 = [org, dst]\n",
    "    print('Batch')\n",
    "    print(x1.shape)\n",
    "    print(x2[0].shape, x2[0].shape)\n",
    "    print(y)\n",
    "    print(x_seq_lens)\n",
    "    print(max_seq_len)\n",
    "    print(net(x1, x2, x_seq_lens))\n",
    "    if count >= 0:\n",
    "        break\n",
    "    count+=1"
   ]
  },
  {
   "cell_type": "markdown",
   "metadata": {},
   "source": [
    "#### Trajectory Identtification: Siamese Net"
   ]
  },
  {
   "cell_type": "markdown",
   "metadata": {},
   "source": [
    "![alt text](https://github.com/FKTechLab/DifferenceNet/blob/main/ti/images/TrajectorySN.jpeg)"
   ]
  },
  {
   "cell_type": "code",
   "execution_count": 14,
   "metadata": {},
   "outputs": [
    {
     "name": "stdout",
     "output_type": "stream",
     "text": [
      "Batch\n",
      "torch.Size([3, 6, 4])\n",
      "torch.Size([3, 6, 4]) torch.Size([3, 6, 4])\n",
      "[0, 1, 1]\n",
      "[6, 3, 5]\n",
      "6\n",
      "torch.Size([3, 16]) torch.Size([3, 16])\n",
      "0.2942207455635071\n"
     ]
    }
   ],
   "source": [
    "import torch\n",
    "from ti.model import TrajectorySN, ContrastiveLoss\n",
    "\n",
    "net = TrajectorySN(n_features=len(transformer.features_traj)) \n",
    "criterion = ContrastiveLoss()\n",
    "# Forward Pass\n",
    "count = 0\n",
    "for x1, x2, y, x_seq_lens, max_seq_len in train_g:\n",
    "    print('Batch')\n",
    "    print(x1.shape)\n",
    "    print(x2[0].shape, x2[0].shape)\n",
    "    print(y)\n",
    "    y = torch.Tensor(y)\n",
    "    print(x_seq_lens)\n",
    "    print(max_seq_len)\n",
    "    x1, x2 = net(x1, x2, x_seq_lens)\n",
    "    print(x1.shape, x2.shape)\n",
    "    print(criterion(x1, x2, y).item())\n",
    "    if count >= 0:\n",
    "        break\n",
    "    count+=1"
   ]
  },
  {
   "cell_type": "code",
   "execution_count": null,
   "metadata": {},
   "outputs": [],
   "source": []
  }
 ],
 "metadata": {
  "kernelspec": {
   "display_name": "Python 3",
   "language": "python",
   "name": "python3"
  },
  "language_info": {
   "codemirror_mode": {
    "name": "ipython",
    "version": 3
   },
   "file_extension": ".py",
   "mimetype": "text/x-python",
   "name": "python",
   "nbconvert_exporter": "python",
   "pygments_lexer": "ipython3",
   "version": "3.7.9"
  }
 },
 "nbformat": 4,
 "nbformat_minor": 4
}
