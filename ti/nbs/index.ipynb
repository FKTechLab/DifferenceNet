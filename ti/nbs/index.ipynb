{
 "cells": [
  {
   "cell_type": "markdown",
   "metadata": {},
   "source": [
    "# Trajectory Identification (TI)\n",
    "\n",
    "> DifferenceNet as ann alternative to Siamese Net for TI"
   ]
  },
  {
   "cell_type": "markdown",
   "metadata": {},
   "source": [
    "<p align=\"left\">\n",
    "  <img src=\"https://github.com/FKTechLab/DifferenceNet/blob/main/ti/images/traj_half.png\" width=\"30%\" />\n",
    "  <img src=\"https://github.com/FKTechLab/DifferenceNet/blob/main/ti/images/traj_full.png\" width=\"29.3%\" />\n",
    "</p>"
   ]
  },
  {
   "cell_type": "code",
   "execution_count": 15,
   "metadata": {},
   "outputs": [],
   "source": [
    "#hide\n",
    "%reload_ext autoreload\n",
    "%autoreload 2\n",
    "from nbdev.showdoc import *\n",
    "import warnings\n",
    "warnings.filterwarnings(\"ignore\")"
   ]
  },
  {
   "cell_type": "markdown",
   "metadata": {},
   "source": [
    "DSN is a special type to Siamese Net where the difference of positive and anchor and negative and anchor is used to create a single input vector for the geospatial and temporal model."
   ]
  },
  {
   "cell_type": "markdown",
   "metadata": {},
   "source": [
    "## Install"
   ]
  },
  {
   "cell_type": "markdown",
   "metadata": {},
   "source": [
    "`pip install git+https://github.com/arunabha4k/DSN.git@master`"
   ]
  },
  {
   "cell_type": "markdown",
   "metadata": {},
   "source": [
    "## How to use"
   ]
  },
  {
   "cell_type": "markdown",
   "metadata": {},
   "source": [
    "usage: train.py [-h] [-m {SN,DN}] [-e EPOCH] [-p PRINT]\n",
    "\n",
    "optional arguments:\n",
    "\n",
    "    -h, --help            show this help message and exit\n",
    "\n",
    "    -m {SN,DN}, --model {SN,DN}\n",
    "    Choose model, SN : Siamese Net, DN : Difference Net\n",
    "\n",
    "    -e EPOCH, --epoch EPOCH\n",
    "    Number of Epochs\n",
    "\n",
    "    -p PRINT, --print PRINT\n",
    "    Print at every p step, p must not be greater than e"
   ]
  },
  {
   "cell_type": "markdown",
   "metadata": {},
   "source": [
    "### Transformer"
   ]
  },
  {
   "cell_type": "code",
   "execution_count": 2,
   "metadata": {},
   "outputs": [
    {
     "name": "stdout",
     "output_type": "stream",
     "text": [
      "9 9\n",
      "4 4\n"
     ]
    }
   ],
   "source": [
    "import pandas as pd\n",
    "from ti.prep import Transformer\n",
    "\n",
    "X = pd.read_csv('../data/sim/0.csv')\n",
    "transformer = Transformer()\n",
    "x1, x2 = transformer.transform(X)\n",
    "print(len(x1), len(x2))\n",
    "print(len(x1[0]), len(x2[0]))"
   ]
  },
  {
   "cell_type": "markdown",
   "metadata": {},
   "source": [
    "### Model"
   ]
  },
  {
   "cell_type": "markdown",
   "metadata": {},
   "source": [
    "#### Difference Net\n",
    "This module helps create the differential features using (simple sub, abs diff or squared diff) for:\n",
    "- (pos, anchor) or\n",
    "- (neg, anchor)"
   ]
  },
  {
   "cell_type": "code",
   "execution_count": 3,
   "metadata": {},
   "outputs": [
    {
     "name": "stdout",
     "output_type": "stream",
     "text": [
      "torch.Size([3, 53, 4])\n",
      "simple\n",
      "tensor([[-5.2571e-05, -4.2319e-06,  3.0102e-01,  5.0041e-02],\n",
      "        [ 9.0423e-04,  1.5163e-04,  3.0767e-01,  5.0095e-02],\n",
      "        [ 2.4011e-03,  1.8251e-04,  3.1234e-01,  5.0107e-02],\n",
      "        [ 3.3363e-03,  4.9114e-04,  3.1432e-01,  5.0106e-02],\n",
      "        [ 4.6635e-03,  8.7696e-04,  3.1707e-01,  5.0097e-02],\n",
      "        [ 6.5585e-03,  1.8214e-03,  3.2174e-01,  5.0065e-02],\n",
      "        [ 6.5431e-03,  1.8939e-03,  3.2196e-01,  5.0063e-02],\n",
      "        [ 8.5184e-03,  2.4773e-03,  3.2642e-01,  5.0012e-02],\n",
      "        [ 1.0648e-02,  3.2597e-03,  3.3106e-01,  4.9937e-02],\n",
      "        [ 1.2244e-02,  4.2566e-03,  3.3519e-01,  4.9852e-02],\n",
      "        [ 1.2432e-02,  4.4202e-03,  3.3577e-01,  4.9838e-02],\n",
      "        [ 1.3747e-02,  5.7766e-03,  3.4039e-01,  4.9720e-02],\n",
      "        [ 1.3716e-02,  5.6979e-03,  3.4245e-01,  4.9661e-02],\n",
      "        [ 1.3716e-02,  5.6964e-03,  3.5223e-01,  4.9321e-02],\n",
      "        [ 1.4481e-02,  6.6347e-03,  3.5690e-01,  4.9125e-02],\n",
      "        [ 1.5126e-02,  8.0822e-03,  3.6152e-01,  4.8909e-02],\n",
      "        [ 1.5494e-02,  8.5050e-03,  3.6292e-01,  4.8839e-02],\n",
      "        [ 1.6167e-02,  9.5930e-03,  3.6633e-01,  4.8661e-02],\n",
      "        [ 1.6775e-02,  1.1173e-02,  3.7091e-01,  4.8405e-02],\n",
      "        [ 1.7491e-02,  1.2253e-02,  3.7557e-01,  4.8121e-02],\n",
      "        [ 1.7608e-02,  1.3659e-02,  3.8029e-01,  4.7813e-02],\n",
      "        [ 1.7596e-02,  1.4119e-02,  3.8169e-01,  4.7716e-02],\n",
      "        [ 1.7389e-02,  1.5091e-02,  3.8497e-01,  4.7484e-02],\n",
      "        [ 1.8404e-02,  1.6254e-02,  3.8957e-01,  4.7139e-02],\n",
      "        [ 1.8611e-02,  1.6625e-02,  3.9102e-01,  4.7026e-02],\n",
      "        [ 1.8401e-02,  1.7408e-02,  3.9424e-01,  4.6768e-02],\n",
      "        [ 1.8401e-02,  1.8814e-02,  3.9893e-01,  4.6372e-02],\n",
      "        [ 1.8880e-02,  2.0007e-02,  4.0355e-01,  4.5961e-02],\n",
      "        [ 2.0744e-02,  2.0843e-02,  4.0824e-01,  4.5521e-02],\n",
      "        [ 2.1281e-02,  2.1030e-02,  4.0969e-01,  4.5381e-02],\n",
      "        [ 2.2559e-02,  2.1616e-02,  4.1289e-01,  4.5063e-02],\n",
      "        [ 2.3537e-02,  2.2264e-02,  4.1611e-01,  4.4734e-02],\n",
      "        [ 2.3494e-02,  2.2684e-02,  4.1751e-01,  4.4587e-02],\n",
      "        [ 2.2929e-02,  2.4121e-02,  4.2219e-01,  4.4082e-02],\n",
      "        [ 2.2522e-02,  2.5292e-02,  4.2680e-01,  4.3562e-02],\n",
      "        [ 2.3611e-02,  2.6666e-02,  4.3151e-01,  4.3010e-02],\n",
      "        [ 2.3907e-02,  2.7300e-02,  4.3375e-01,  4.2738e-02],\n",
      "        [ 2.3907e-02,  2.7300e-02,  4.4236e-01,  4.1650e-02],\n",
      "        [ 2.4222e-02,  2.7783e-02,  4.4697e-01,  4.1036e-02],\n",
      "        [ 2.5432e-02,  2.9101e-02,  4.5162e-01,  4.0394e-02],\n",
      "        [ 2.5488e-02,  3.0596e-02,  4.5625e-01,  3.9733e-02],\n",
      "        [ 2.5710e-02,  3.2226e-02,  4.6087e-01,  3.9051e-02],\n",
      "        [ 2.5944e-02,  3.2914e-02,  4.6314e-01,  3.8708e-02],\n",
      "        [ 2.6389e-02,  3.3596e-02,  4.6546e-01,  3.8351e-02],\n",
      "        [ 2.6907e-02,  3.5115e-02,  4.7011e-01,  3.7620e-02],\n",
      "        [ 2.7197e-02,  3.5412e-02,  4.7116e-01,  3.7454e-02],\n",
      "        [ 2.8497e-02,  3.6128e-02,  4.7469e-01,  3.6879e-02],\n",
      "        [ 2.9941e-02,  3.7178e-02,  4.7930e-01,  3.6110e-02],\n",
      "        [ 3.2160e-02,  3.6934e-02,  4.8389e-01,  3.5325e-02],\n",
      "        [ 3.2855e-02,  3.7723e-02,  4.8709e-01,  3.4762e-02],\n",
      "        [ 3.2864e-02,  3.8141e-02,  4.8852e-01,  3.4508e-02],\n",
      "        [ 3.2963e-02,  3.9155e-02,  4.9315e-01,  3.3670e-02],\n",
      "        [ 3.2367e-02,  4.0383e-02,  4.9772e-01,  3.2818e-02]])\n",
      "abs\n",
      "tensor([[5.2571e-05, 4.2319e-06, 3.0102e-01, 5.0041e-02],\n",
      "        [9.0423e-04, 1.5163e-04, 3.0767e-01, 5.0095e-02],\n",
      "        [2.4011e-03, 1.8251e-04, 3.1234e-01, 5.0107e-02],\n",
      "        [3.3363e-03, 4.9114e-04, 3.1432e-01, 5.0106e-02],\n",
      "        [4.6635e-03, 8.7696e-04, 3.1707e-01, 5.0097e-02],\n",
      "        [6.5585e-03, 1.8214e-03, 3.2174e-01, 5.0065e-02],\n",
      "        [6.5431e-03, 1.8939e-03, 3.2196e-01, 5.0063e-02],\n",
      "        [8.5184e-03, 2.4773e-03, 3.2642e-01, 5.0012e-02],\n",
      "        [1.0648e-02, 3.2597e-03, 3.3106e-01, 4.9937e-02],\n",
      "        [1.2244e-02, 4.2566e-03, 3.3519e-01, 4.9852e-02],\n",
      "        [1.2432e-02, 4.4202e-03, 3.3577e-01, 4.9838e-02],\n",
      "        [1.3747e-02, 5.7766e-03, 3.4039e-01, 4.9720e-02],\n",
      "        [1.3716e-02, 5.6979e-03, 3.4245e-01, 4.9661e-02],\n",
      "        [1.3716e-02, 5.6964e-03, 3.5223e-01, 4.9321e-02],\n",
      "        [1.4481e-02, 6.6347e-03, 3.5690e-01, 4.9125e-02],\n",
      "        [1.5126e-02, 8.0822e-03, 3.6152e-01, 4.8909e-02],\n",
      "        [1.5494e-02, 8.5050e-03, 3.6292e-01, 4.8839e-02],\n",
      "        [1.6167e-02, 9.5930e-03, 3.6633e-01, 4.8661e-02],\n",
      "        [1.6775e-02, 1.1173e-02, 3.7091e-01, 4.8405e-02],\n",
      "        [1.7491e-02, 1.2253e-02, 3.7557e-01, 4.8121e-02],\n",
      "        [1.7608e-02, 1.3659e-02, 3.8029e-01, 4.7813e-02],\n",
      "        [1.7596e-02, 1.4119e-02, 3.8169e-01, 4.7716e-02],\n",
      "        [1.7389e-02, 1.5091e-02, 3.8497e-01, 4.7484e-02],\n",
      "        [1.8404e-02, 1.6254e-02, 3.8957e-01, 4.7139e-02],\n",
      "        [1.8611e-02, 1.6625e-02, 3.9102e-01, 4.7026e-02],\n",
      "        [1.8401e-02, 1.7408e-02, 3.9424e-01, 4.6768e-02],\n",
      "        [1.8401e-02, 1.8814e-02, 3.9893e-01, 4.6372e-02],\n",
      "        [1.8880e-02, 2.0007e-02, 4.0355e-01, 4.5961e-02],\n",
      "        [2.0744e-02, 2.0843e-02, 4.0824e-01, 4.5521e-02],\n",
      "        [2.1281e-02, 2.1030e-02, 4.0969e-01, 4.5381e-02],\n",
      "        [2.2559e-02, 2.1616e-02, 4.1289e-01, 4.5063e-02],\n",
      "        [2.3537e-02, 2.2264e-02, 4.1611e-01, 4.4734e-02],\n",
      "        [2.3494e-02, 2.2684e-02, 4.1751e-01, 4.4587e-02],\n",
      "        [2.2929e-02, 2.4121e-02, 4.2219e-01, 4.4082e-02],\n",
      "        [2.2522e-02, 2.5292e-02, 4.2680e-01, 4.3562e-02],\n",
      "        [2.3611e-02, 2.6666e-02, 4.3151e-01, 4.3010e-02],\n",
      "        [2.3907e-02, 2.7300e-02, 4.3375e-01, 4.2738e-02],\n",
      "        [2.3907e-02, 2.7300e-02, 4.4236e-01, 4.1650e-02],\n",
      "        [2.4222e-02, 2.7783e-02, 4.4697e-01, 4.1036e-02],\n",
      "        [2.5432e-02, 2.9101e-02, 4.5162e-01, 4.0394e-02],\n",
      "        [2.5488e-02, 3.0596e-02, 4.5625e-01, 3.9733e-02],\n",
      "        [2.5710e-02, 3.2226e-02, 4.6087e-01, 3.9051e-02],\n",
      "        [2.5944e-02, 3.2914e-02, 4.6314e-01, 3.8708e-02],\n",
      "        [2.6389e-02, 3.3596e-02, 4.6546e-01, 3.8351e-02],\n",
      "        [2.6907e-02, 3.5115e-02, 4.7011e-01, 3.7620e-02],\n",
      "        [2.7197e-02, 3.5412e-02, 4.7116e-01, 3.7454e-02],\n",
      "        [2.8497e-02, 3.6128e-02, 4.7469e-01, 3.6879e-02],\n",
      "        [2.9941e-02, 3.7178e-02, 4.7930e-01, 3.6110e-02],\n",
      "        [3.2160e-02, 3.6934e-02, 4.8389e-01, 3.5325e-02],\n",
      "        [3.2855e-02, 3.7723e-02, 4.8709e-01, 3.4762e-02],\n",
      "        [3.2864e-02, 3.8141e-02, 4.8852e-01, 3.4508e-02],\n",
      "        [3.2963e-02, 3.9155e-02, 4.9315e-01, 3.3670e-02],\n",
      "        [3.2367e-02, 4.0383e-02, 4.9772e-01, 3.2818e-02]])\n",
      "square\n",
      "tensor([[2.7637e-09, 1.7909e-11, 9.0613e-02, 2.5041e-03],\n",
      "        [8.1764e-07, 2.2993e-08, 9.4663e-02, 2.5095e-03],\n",
      "        [5.7655e-06, 3.3310e-08, 9.7558e-02, 2.5108e-03],\n",
      "        [1.1131e-05, 2.4122e-07, 9.8798e-02, 2.5106e-03],\n",
      "        [2.1748e-05, 7.6906e-07, 1.0054e-01, 2.5097e-03],\n",
      "        [4.3014e-05, 3.3175e-06, 1.0352e-01, 2.5066e-03],\n",
      "        [4.2813e-05, 3.5870e-06, 1.0366e-01, 2.5063e-03],\n",
      "        [7.2564e-05, 6.1368e-06, 1.0655e-01, 2.5012e-03],\n",
      "        [1.1338e-04, 1.0625e-05, 1.0960e-01, 2.4937e-03],\n",
      "        [1.4991e-04, 1.8118e-05, 1.1235e-01, 2.4852e-03],\n",
      "        [1.5455e-04, 1.9538e-05, 1.1274e-01, 2.4839e-03],\n",
      "        [1.8898e-04, 3.3370e-05, 1.1587e-01, 2.4721e-03],\n",
      "        [1.8813e-04, 3.2466e-05, 1.1727e-01, 2.4662e-03],\n",
      "        [1.8813e-04, 3.2449e-05, 1.2406e-01, 2.4326e-03],\n",
      "        [2.0971e-04, 4.4019e-05, 1.2738e-01, 2.4132e-03],\n",
      "        [2.2881e-04, 6.5322e-05, 1.3070e-01, 2.3921e-03],\n",
      "        [2.4006e-04, 7.2336e-05, 1.3171e-01, 2.3853e-03],\n",
      "        [2.6136e-04, 9.2026e-05, 1.3420e-01, 2.3679e-03],\n",
      "        [2.8139e-04, 1.2484e-04, 1.3757e-01, 2.3430e-03],\n",
      "        [3.0592e-04, 1.5015e-04, 1.4105e-01, 2.3157e-03],\n",
      "        [3.1004e-04, 1.8658e-04, 1.4462e-01, 2.2860e-03],\n",
      "        [3.0960e-04, 1.9935e-04, 1.4569e-01, 2.2768e-03],\n",
      "        [3.0237e-04, 2.2775e-04, 1.4820e-01, 2.2547e-03],\n",
      "        [3.3872e-04, 2.6418e-04, 1.5176e-01, 2.2221e-03],\n",
      "        [3.4637e-04, 2.7640e-04, 1.5290e-01, 2.2114e-03],\n",
      "        [3.3860e-04, 3.0303e-04, 1.5542e-01, 2.1872e-03],\n",
      "        [3.3860e-04, 3.5395e-04, 1.5915e-01, 2.1504e-03],\n",
      "        [3.5644e-04, 4.0026e-04, 1.6285e-01, 2.1124e-03],\n",
      "        [4.3030e-04, 4.3443e-04, 1.6666e-01, 2.0722e-03],\n",
      "        [4.5287e-04, 4.4225e-04, 1.6785e-01, 2.0594e-03],\n",
      "        [5.0889e-04, 4.6726e-04, 1.7048e-01, 2.0307e-03],\n",
      "        [5.5399e-04, 4.9570e-04, 1.7315e-01, 2.0011e-03],\n",
      "        [5.5196e-04, 5.1457e-04, 1.7431e-01, 1.9880e-03],\n",
      "        [5.2574e-04, 5.8181e-04, 1.7825e-01, 1.9432e-03],\n",
      "        [5.0722e-04, 6.3969e-04, 1.8216e-01, 1.8977e-03],\n",
      "        [5.5748e-04, 7.1105e-04, 1.8620e-01, 1.8499e-03],\n",
      "        [5.7156e-04, 7.4528e-04, 1.8814e-01, 1.8266e-03],\n",
      "        [5.7156e-04, 7.4528e-04, 1.9568e-01, 1.7348e-03],\n",
      "        [5.8671e-04, 7.7189e-04, 1.9978e-01, 1.6839e-03],\n",
      "        [6.4679e-04, 8.4685e-04, 2.0396e-01, 1.6316e-03],\n",
      "        [6.4962e-04, 9.3612e-04, 2.0816e-01, 1.5787e-03],\n",
      "        [6.6099e-04, 1.0385e-03, 2.1240e-01, 1.5250e-03],\n",
      "        [6.7311e-04, 1.0833e-03, 2.1450e-01, 1.4983e-03],\n",
      "        [6.9637e-04, 1.1287e-03, 2.1666e-01, 1.4708e-03],\n",
      "        [7.2400e-04, 1.2330e-03, 2.2101e-01, 1.4153e-03],\n",
      "        [7.3970e-04, 1.2540e-03, 2.2199e-01, 1.4028e-03],\n",
      "        [8.1207e-04, 1.3053e-03, 2.2533e-01, 1.3601e-03],\n",
      "        [8.9648e-04, 1.3822e-03, 2.2973e-01, 1.3040e-03],\n",
      "        [1.0343e-03, 1.3641e-03, 2.3415e-01, 1.2478e-03],\n",
      "        [1.0794e-03, 1.4230e-03, 2.3726e-01, 1.2084e-03],\n",
      "        [1.0801e-03, 1.4547e-03, 2.3865e-01, 1.1908e-03],\n",
      "        [1.0866e-03, 1.5331e-03, 2.4319e-01, 1.1336e-03],\n",
      "        [1.0476e-03, 1.6308e-03, 2.4773e-01, 1.0771e-03]])\n",
      "torch.Size([1, 12, 4])\n",
      "simple\n",
      "tensor([[-5.2571e-05, -4.2319e-06,  6.4101e-02, -5.0685e-03],\n",
      "        [-5.0625e-04,  4.1723e-07,  6.7776e-02, -5.4852e-03],\n",
      "        [-1.5001e-03,  1.6424e-03,  7.3559e-02, -6.1688e-03],\n",
      "        [-1.9353e-03,  2.8137e-03,  7.7080e-02, -6.6019e-03],\n",
      "        [-1.4816e-03,  4.5760e-03,  8.2701e-02, -7.3195e-03],\n",
      "        [-2.8405e-04,  5.5004e-03,  8.7089e-02, -7.9020e-03],\n",
      "        [ 2.2832e-04,  6.4248e-03,  9.1010e-02, -8.4394e-03],\n",
      "        [-5.7417e-04,  7.6239e-03,  9.5649e-02, -9.0957e-03],\n",
      "        [ 2.9621e-04,  9.4202e-03,  1.0126e-01, -9.9185e-03],\n",
      "        [-2.4700e-04,  1.0591e-02,  1.0564e-01, -1.0584e-02],\n",
      "        [-6.7911e-04,  1.1704e-02,  1.0955e-01, -1.1196e-02],\n",
      "        [-2.8180e-03,  1.1672e-02,  1.1418e-01, -1.1939e-02]])\n",
      "abs\n",
      "tensor([[5.2571e-05, 4.2319e-06, 6.4101e-02, 5.0685e-03],\n",
      "        [5.0625e-04, 4.1723e-07, 6.7776e-02, 5.4852e-03],\n",
      "        [1.5001e-03, 1.6424e-03, 7.3559e-02, 6.1688e-03],\n",
      "        [1.9353e-03, 2.8137e-03, 7.7080e-02, 6.6019e-03],\n",
      "        [1.4816e-03, 4.5760e-03, 8.2701e-02, 7.3195e-03],\n",
      "        [2.8405e-04, 5.5004e-03, 8.7089e-02, 7.9020e-03],\n",
      "        [2.2832e-04, 6.4248e-03, 9.1010e-02, 8.4394e-03],\n",
      "        [5.7417e-04, 7.6239e-03, 9.5649e-02, 9.0957e-03],\n",
      "        [2.9621e-04, 9.4202e-03, 1.0126e-01, 9.9185e-03],\n",
      "        [2.4700e-04, 1.0591e-02, 1.0564e-01, 1.0584e-02],\n",
      "        [6.7911e-04, 1.1704e-02, 1.0955e-01, 1.1196e-02],\n",
      "        [2.8180e-03, 1.1672e-02, 1.1418e-01, 1.1939e-02]])\n",
      "square\n",
      "tensor([[2.7637e-09, 1.7909e-11, 4.1089e-03, 2.5690e-05],\n",
      "        [2.5629e-07, 1.7408e-13, 4.5936e-03, 3.0088e-05],\n",
      "        [2.2503e-06, 2.6974e-06, 5.4109e-03, 3.8055e-05],\n",
      "        [3.7453e-06, 7.9167e-06, 5.9413e-03, 4.3585e-05],\n",
      "        [2.1950e-06, 2.0940e-05, 6.8395e-03, 5.3574e-05],\n",
      "        [8.0682e-08, 3.0254e-05, 7.5844e-03, 6.2441e-05],\n",
      "        [5.2128e-08, 4.1278e-05, 8.2828e-03, 7.1224e-05],\n",
      "        [3.2967e-07, 5.8123e-05, 9.1488e-03, 8.2731e-05],\n",
      "        [8.7738e-08, 8.8739e-05, 1.0253e-02, 9.8376e-05],\n",
      "        [6.1010e-08, 1.1218e-04, 1.1159e-02, 1.1202e-04],\n",
      "        [4.6118e-07, 1.3699e-04, 1.2002e-02, 1.2534e-04],\n",
      "        [7.9411e-06, 1.3623e-04, 1.3037e-02, 1.4253e-04]])\n"
     ]
    }
   ],
   "source": [
    "from torch.utils.data import DataLoader\n",
    "\n",
    "from ti.dataloader import DatasetTraj, zero_padding\n",
    "from ti.prep import Transformer\n",
    "from ti.model import Difference\n",
    "\n",
    "# Data generator\n",
    "params = {\n",
    "    'batch_size': 3,\n",
    "    'shuffle': True,\n",
    "    'collate_fn': zero_padding\n",
    "}\n",
    "train_g = DataLoader(DatasetTraj(range(0,4), [[0,1], [2,3], [1,3], [0, 1], [2,4], [6,0], [5,1], [9,3], [11,7], \\\n",
    "                                              [8, 1], [10,4], [4,10]], mode='real'), **params)\n",
    "diff_s = Difference(mode='simple')\n",
    "diff_a = Difference(mode='abs')\n",
    "diff_sq = Difference(mode='square')\n",
    "for x1, x2, y, x_seq_lens, max_seq_len in train_g:\n",
    "    print(x1.shape)\n",
    "    print('simple')\n",
    "    print(diff_s(x1, x2[0])[0])\n",
    "    print('abs')\n",
    "    print(diff_a(x1, x2[0])[0])\n",
    "    print('square')\n",
    "    print(diff_sq(x1, x2[0])[0])"
   ]
  },
  {
   "cell_type": "markdown",
   "metadata": {},
   "source": [
    "#### Trajectory Identtification: Difference Net"
   ]
  },
  {
   "cell_type": "markdown",
   "metadata": {},
   "source": [
    "![alt text](https://github.com/FKTechLab/DifferenceNet/blob/main/ti/images/TrajectoryDN.jpeg)"
   ]
  },
  {
   "cell_type": "code",
   "execution_count": 4,
   "metadata": {},
   "outputs": [
    {
     "name": "stdout",
     "output_type": "stream",
     "text": [
      "Batch\n",
      "torch.Size([3, 38, 4])\n",
      "torch.Size([3, 38, 4]) torch.Size([3, 38, 4])\n",
      "tensor([1., 0., 1.])\n",
      "tensor([38., 20., 19.])\n",
      "38\n",
      "tensor([[0.4933],\n",
      "        [0.4934],\n",
      "        [0.4934]], grad_fn=<SigmoidBackward0>)\n"
     ]
    }
   ],
   "source": [
    "from ti.model import TrajectoryDN\n",
    "import torch \n",
    "device = torch.device('cuda' if torch.cuda.is_available() else 'cpu')\n",
    "diff_net = Difference(mode='simple')\n",
    "net = TrajectoryDN(diff_net, n_features=len(transformer.features_traj)*2) # 2x for org and dest \n",
    "# Forward Pass\n",
    "count = 0\n",
    "for x1, x2, y, x_seq_lens, max_seq_len in train_g:\n",
    "    x1, y, x_seq_lens = torch.Tensor(x1).to(device), torch.Tensor(y).to(device), torch.Tensor(x_seq_lens).to(device)\n",
    "    org = x2[0]\n",
    "    dst = x2[1]\n",
    "    org = torch.Tensor(org).to(device)\n",
    "    dst = torch.Tensor(dst).to(device)\n",
    "    x2 = [org, dst]\n",
    "    print('Batch')\n",
    "    print(x1.shape)\n",
    "    print(x2[0].shape, x2[0].shape)\n",
    "    print(y)\n",
    "    print(x_seq_lens)\n",
    "    print(max_seq_len)\n",
    "    print(net(x1, x2, x_seq_lens))\n",
    "    if count >= 0:\n",
    "        break\n",
    "    count+=1"
   ]
  },
  {
   "cell_type": "markdown",
   "metadata": {},
   "source": [
    "#### Trajectory Identtification: Siamese Net"
   ]
  },
  {
   "cell_type": "markdown",
   "metadata": {},
   "source": [
    "![alt text](https://github.com/FKTechLab/DifferenceNet/blob/main/ti/images/TrajectorySN.jpeg)"
   ]
  },
  {
   "cell_type": "code",
   "execution_count": 5,
   "metadata": {},
   "outputs": [
    {
     "name": "stdout",
     "output_type": "stream",
     "text": [
      "Batch\n",
      "torch.Size([3, 40, 4])\n",
      "torch.Size([3, 40, 4]) torch.Size([3, 40, 4])\n",
      "[0, 0, 0]\n",
      "[21, 40, 35]\n",
      "40\n",
      "torch.Size([3, 16]) torch.Size([3, 16])\n",
      "0.2231968492269516\n"
     ]
    }
   ],
   "source": [
    "import torch\n",
    "from ti.model import TrajectorySN, ContrastiveLoss\n",
    "\n",
    "net = TrajectorySN(n_features=len(transformer.features_traj)) \n",
    "criterion = ContrastiveLoss()\n",
    "# Forward Pass\n",
    "count = 0\n",
    "for x1, x2, y, x_seq_lens, max_seq_len in train_g:\n",
    "    print('Batch')\n",
    "    print(x1.shape)\n",
    "    print(x2[0].shape, x2[0].shape)\n",
    "    print(y)\n",
    "    y = torch.Tensor(y)\n",
    "    print(x_seq_lens)\n",
    "    print(max_seq_len)\n",
    "    x1, x2 = net(x1, x2, x_seq_lens)\n",
    "    print(x1.shape, x2.shape)\n",
    "    print(criterion(x1, x2, y).item())\n",
    "    if count >= 0:\n",
    "        break\n",
    "    count+=1"
   ]
  },
  {
   "cell_type": "code",
   "execution_count": null,
   "metadata": {},
   "outputs": [],
   "source": []
  }
 ],
 "metadata": {
  "kernelspec": {
   "display_name": "a3_pytorch",
   "language": "python",
   "name": "a3_pytorch"
  },
  "language_info": {
   "codemirror_mode": {
    "name": "ipython",
    "version": 3
   },
   "file_extension": ".py",
   "mimetype": "text/x-python",
   "name": "python",
   "nbconvert_exporter": "python",
   "pygments_lexer": "ipython3",
   "version": "3.10.0"
  }
 },
 "nbformat": 4,
 "nbformat_minor": 4
}
