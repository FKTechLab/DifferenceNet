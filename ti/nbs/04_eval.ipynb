{
 "cells": [
  {
   "cell_type": "code",
   "execution_count": 1,
   "metadata": {},
   "outputs": [],
   "source": [
    "# default_exp eval"
   ]
  },
  {
   "cell_type": "markdown",
   "metadata": {},
   "source": [
    "# Eval\n",
    "\n",
    "> Model Evaluation"
   ]
  },
  {
   "cell_type": "code",
   "execution_count": 2,
   "metadata": {},
   "outputs": [],
   "source": [
    "#hide\n",
    "%reload_ext autoreload\n",
    "%autoreload 2\n",
    "from nbdev.showdoc import *\n",
    "import warnings\n",
    "warnings.filterwarnings(\"ignore\")"
   ]
  },
  {
   "cell_type": "code",
   "execution_count": 3,
   "metadata": {},
   "outputs": [
    {
     "name": "stdout",
     "output_type": "stream",
     "text": [
      "DataParallel(\n",
      "  (module): TrajectoryDN(\n",
      "    (diff_net): Difference()\n",
      "    (lstm): LSTM(8, 64, num_layers=2, batch_first=True)\n",
      "    (fcn): Sequential(\n",
      "      (0): Linear(in_features=64, out_features=64, bias=True)\n",
      "      (1): ReLU()\n",
      "      (2): Linear(in_features=64, out_features=32, bias=True)\n",
      "      (3): ReLU()\n",
      "      (4): Linear(in_features=32, out_features=1, bias=True)\n",
      "      (5): Sigmoid()\n",
      "    )\n",
      "  )\n",
      ")\n"
     ]
    }
   ],
   "source": [
    "# export\n",
    "import os\n",
    "import torch\n",
    "from torch.utils.data import DataLoader\n",
    "from ti.dataloader import DatasetTraj, zero_padding, getSTW, splitData, file_dir\n",
    "from ti.prep import Transformer\n",
    "from ti.model import Difference, TrajectoryDN\n",
    "import torch.nn as nn\n",
    "from ti.train import test\n",
    "\n",
    "BATCH_SIZE = 4\n",
    "threshold = 0.5\n",
    "params = {\n",
    "    'batch_size': BATCH_SIZE,\n",
    "    'shuffle': True,\n",
    "    'collate_fn': zero_padding\n",
    "}\n",
    "mode = 'real'\n",
    "stw = getSTW(mode=mode, is_train=False)\n",
    "ts_range = range(len(stw))\n",
    "# Partitions\n",
    "mode = 'real'\n",
    "# Generators\n",
    "test_set = DatasetTraj(ts_range, stw, mode=mode)\n",
    "test_g = DataLoader(test_set, **params)\n",
    "transformer = Transformer()\n",
    "diff_net = Difference(mode='simple')\n",
    "net = TrajectoryDN(diff_net, n_features=(len(transformer.features_traj))*2) # 2x for org and dest \n",
    "net = nn.DataParallel(net)\n",
    "criterion = nn.BCELoss()\n",
    "print(net)"
   ]
  },
  {
   "cell_type": "code",
   "execution_count": 4,
   "metadata": {},
   "outputs": [
    {
     "name": "stdout",
     "output_type": "stream",
     "text": [
      "Loading pre-trained model and optimizer weights from  /Users/mahantesh/data/2022/DS/A3/git_workspace/DifferenceNet/ti/ti/../runs/run_tran_normalsubtraj_Batch4_EPOCHS1000/Epoch999.pth\n",
      "Iterations: 2.2128801431127014\n",
      "0.48159 0.75 0.762 0.75 0.749\n"
     ]
    }
   ],
   "source": [
    "# export\n",
    "MODEL_SAVE_PATH = os.path.join(file_dir, '../runs', 'run_tran_normalsubtraj_Batch4_EPOCHS1000', f'Epoch{999}.pth')\n",
    "print('Loading pre-trained model and optimizer weights from ', MODEL_SAVE_PATH)\n",
    "checkpoint = torch.load(MODEL_SAVE_PATH)\n",
    "# print(checkpoint['model_state_dict'])\n",
    "net.load_state_dict(checkpoint['model_state_dict'])\n",
    "# optimizer = torch.optim.Adam(net.parameters(), lr=lr)\n",
    "# optimizer.load_state_dict(checkpoint['optimizer_state_dict'])\n",
    "epoch = checkpoint['epoch']\n",
    "loss = checkpoint['loss']\n",
    "lengths = [len(i) for i in stw]\n",
    "avg = sum(lengths)/len(stw)\n",
    "print(f'Iterations: {avg}')\n",
    "loss_list, acc_list, tp_list, tr_list, tf_list = list(), list(), list(), list(), list()\n",
    "for i in range(int(10)):\n",
    "    test_loss, test_acc, tp, tr, tf = test(net, test_g, criterion, threshold, mtype='DN')\n",
    "    loss_list.append(test_loss)\n",
    "    acc_list.append(test_acc)\n",
    "    tp_list.append(tp)\n",
    "    tr_list.append(tr)\n",
    "    tf_list.append(tf)\n",
    "    \n",
    "from statistics import mean\n",
    "# print(test_loss, test_acc, tp, tr, tf)\n",
    "print(mean(loss_list), mean(acc_list), mean(tp_list), mean(tr_list), mean(tf_list))"
   ]
  },
  {
   "cell_type": "markdown",
   "metadata": {},
   "source": [
    "# Export -"
   ]
  },
  {
   "cell_type": "code",
   "execution_count": 5,
   "metadata": {},
   "outputs": [
    {
     "name": "stdout",
     "output_type": "stream",
     "text": [
      "Converted 00_prep.ipynb.\n",
      "Converted 01_dataloader.ipynb.\n",
      "Converted 02_model.ipynb.\n",
      "Converted 03_train.ipynb.\n",
      "Converted 04_eval.ipynb.\n",
      "Converted index.ipynb.\n"
     ]
    }
   ],
   "source": [
    "#hide\n",
    "from nbdev.export import notebook2script\n",
    "notebook2script()"
   ]
  }
 ],
 "metadata": {
  "kernelspec": {
   "display_name": "a3_pytorch",
   "language": "python",
   "name": "a3_pytorch"
  },
  "language_info": {
   "codemirror_mode": {
    "name": "ipython",
    "version": 3
   },
   "file_extension": ".py",
   "mimetype": "text/x-python",
   "name": "python",
   "nbconvert_exporter": "python",
   "pygments_lexer": "ipython3",
   "version": "3.10.0"
  }
 },
 "nbformat": 4,
 "nbformat_minor": 4
}
